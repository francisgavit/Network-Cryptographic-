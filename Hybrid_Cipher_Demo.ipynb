{
  "cells": [
    {
      "cell_type": "markdown",
      "metadata": {
        "id": "ClKkph6j8H3e"
      },
      "source": [
        "# PROJECT \n",
        "\n",
        "# **CRPTOGRAPHY SYSTEM USING VIGENERE CIPHER AND POLYBIUS CIPHER**\n",
        "\n",
        "### By- Parmeswar"
      ]
    },
    {
      "cell_type": "code",
      "execution_count": 9,
      "metadata": {
        "id": "JZBjAPjrN7H4"
      },
      "outputs": [],
      "source": [
        "#Hello\n",
        "#How's you ?\n",
        "#This Hybrid Cipher is developed for Communication security for Army, Secure high level Communication, Message and Data Protection from attackers  \n"
      ]
    },
    {
      "cell_type": "code",
      "execution_count": 11,
      "metadata": {
        "id": "H8Ju6-z9ZG_5"
      },
      "outputs": [],
      "source": [
        "# Python code to implement Cryptographic System \n",
        "# First Step is to Give Input to the System\n",
        "\n",
        "# System 1 : Vigenere Cipher \n",
        "\n",
        "# This function generates the \n",
        "# key in a cyclic manner until \n",
        "# it's length isn't equal to \n",
        "# the length of original text \n",
        "def generateKey(string, key): \n",
        "\tkey = list(key) \n",
        "\tif len(string) == len(key): \n",
        "\t\treturn(key) \n",
        "\telse: \n",
        "\t\tfor i in range(len(string) -\n",
        "\t\t\t\t\tlen(key)): \n",
        "\t\t\tkey.append(key[i % len(key)]) \n",
        "\treturn(\"\" . join(key)) "
      ]
    }
  ],
  "metadata": {
    "colab": {
      "name": "Hybrid_Cipher_Demo.ipynb",
      "provenance": []
    },
    "kernelspec": {
      "display_name": "Python 3",
      "name": "python3"
    }
  },
  "nbformat": 4,
  "nbformat_minor": 0
}
